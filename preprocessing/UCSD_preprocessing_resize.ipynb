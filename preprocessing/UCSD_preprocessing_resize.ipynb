{
 "cells": [
  {
   "cell_type": "markdown",
   "id": "fcece906",
   "metadata": {},
   "source": [
    "# Libraries"
   ]
  },
  {
   "cell_type": "code",
   "execution_count": 1,
   "id": "03bfc113",
   "metadata": {},
   "outputs": [],
   "source": [
    "import numpy as np\n",
    "import pandas as pd\n",
    "import matplotlib.pyplot as plt\n",
    "import os\n",
    "from os import listdir\n",
    "from PIL import Image\n",
    "from numpy import asarray\n",
    "from os.path import dirname, join as pjoin\n",
    "import scipy.io as sio\n",
    "import json\n",
    "import time\n",
    "import cv2\n",
    "import matplotlib.cm as cm\n",
    "from tensorflow.keras.applications.vgg16 import preprocess_input\n",
    "from skimage.transform import resize"
   ]
  },
  {
   "cell_type": "markdown",
   "id": "f1ef6685",
   "metadata": {},
   "source": [
    "## UCSD Dataset"
   ]
  },
  {
   "cell_type": "markdown",
   "id": "4cfb66da",
   "metadata": {},
   "source": [
    "UCSD dataset consists of an hour of video with 2000 annotated frames and in a total of 49,885 pedestrian\n",
    "instances, which was captured from a pedestrian walkway of the UCSD campus by a stationary camera. The original video was recorded at 30fps with a frame size of 480 × 740 and later downsampled to 10fps with dimension 158×238. The 601-1400 frames were used for training and the remaining 1200 frames for testing. \n",
    "The ROI of the walkway and the traveling direction are\n",
    "also provided.\n",
    "\n",
    "It is taken from http://www.svcl.ucsd.edu/projects/peoplecnt/"
   ]
  },
  {
   "cell_type": "markdown",
   "id": "632b22db",
   "metadata": {},
   "source": [
    "### Images"
   ]
  },
  {
   "cell_type": "markdown",
   "id": "5586d787",
   "metadata": {},
   "source": [
    "Because the resolution of each frame is fixed and small (238 × 158), it is difficult to generate a high-quality density map after frequent pooling operations. So we preprocess the frames by using bilinear interpolation to resize them into 952 × 632."
   ]
  },
  {
   "cell_type": "code",
   "execution_count": 2,
   "id": "efe92e4a",
   "metadata": {},
   "outputs": [],
   "source": [
    "def load_dataset_unpooling(path_vidf):\n",
    "    \n",
    "    full_lista = []\n",
    "    output_shape = (632,952)\n",
    "    \n",
    "    for path in os.listdir(path_vidf):\n",
    "        \n",
    "        lista_images=[]\n",
    "\n",
    "        # Append images to a list\n",
    "        for item in os.listdir(path_vidf+path+'/'):\n",
    "            if os.path.isfile(path_vidf+path+'/'+item):\n",
    "                im = Image.open(path_vidf+path+'/'+item).convert(\"RGB\")\n",
    "                im = np.array(im)\n",
    "                \n",
    "                # Perform unpooling with bilinear interpolation\n",
    "                unpooled_image = resize(im, output_shape, mode='reflect', anti_aliasing=True)\n",
    "                \n",
    "                lista_images.append(unpooled_image)\n",
    "        full_lista.append(np.array(lista_images))\n",
    "            \n",
    "    return full_lista"
   ]
  },
  {
   "cell_type": "code",
   "execution_count": 3,
   "id": "e6c40054",
   "metadata": {},
   "outputs": [],
   "source": [
    "UCSD_dataset_resize = load_dataset_unpooling('UCSDpeds/ucsdpeds/vidf/')"
   ]
  },
  {
   "cell_type": "code",
   "execution_count": 4,
   "id": "4fc0650a",
   "metadata": {},
   "outputs": [
    {
     "data": {
      "text/plain": [
       "(200, 632, 952, 3)"
      ]
     },
     "execution_count": 4,
     "metadata": {},
     "output_type": "execute_result"
    }
   ],
   "source": [
    "UCSD_dataset_resize[0].shape"
   ]
  },
  {
   "cell_type": "code",
   "execution_count": 5,
   "id": "5369779b",
   "metadata": {},
   "outputs": [],
   "source": [
    "# Convert and save the list of images in '.npy' format\n",
    "\n",
    "np.save(\"images_UCSD_resize0.npy\",UCSD_dataset_resize[0])\n",
    "np.save(\"images_UCSD_resize1.npy\",UCSD_dataset_resize[1])\n",
    "np.save(\"images_UCSD_resize2.npy\",UCSD_dataset_resize[2])\n",
    "np.save(\"images_UCSD_resize3.npy\",UCSD_dataset_resize[3])\n",
    "np.save(\"images_UCSD_resize4.npy\",UCSD_dataset_resize[4])\n",
    "np.save(\"images_UCSD_resize5.npy\",UCSD_dataset_resize[5])\n",
    "np.save(\"images_UCSD_resize6.npy\",UCSD_dataset_resize[6])\n",
    "np.save(\"images_UCSD_resize7.npy\",UCSD_dataset_resize[7])\n",
    "np.save(\"images_UCSD_resize8.npy\",UCSD_dataset_resize[8])\n",
    "np.save(\"images_UCSD_resize9.npy\",UCSD_dataset_resize[9])"
   ]
  },
  {
   "cell_type": "code",
   "execution_count": 6,
   "id": "8fb3d1d8",
   "metadata": {},
   "outputs": [
    {
     "data": {
      "text/plain": [
       "(200, 632, 952, 3)"
      ]
     },
     "execution_count": 6,
     "metadata": {},
     "output_type": "execute_result"
    }
   ],
   "source": [
    "images_UCSD_resize0 = np.load(\"images_UCSD_resize0.npy\")\n",
    "images_UCSD_resize0.shape"
   ]
  },
  {
   "cell_type": "markdown",
   "id": "aadb8e9d",
   "metadata": {},
   "source": [
    "### Ground truth"
   ]
  },
  {
   "cell_type": "code",
   "execution_count": 2,
   "id": "6d481eee",
   "metadata": {},
   "outputs": [],
   "source": [
    "# ground truth\n",
    "\n",
    "gt_UCSD0 = sio.loadmat(\"UCSD_ground_truth/vidf1_33_000_frame_full.mat\")\n",
    "gt_UCSD1 = sio.loadmat(\"UCSD_ground_truth/vidf1_33_001_frame_full.mat\")\n",
    "gt_UCSD2 = sio.loadmat(\"UCSD_ground_truth/vidf1_33_002_frame_full.mat\")\n",
    "gt_UCSD3 = sio.loadmat(\"UCSD_ground_truth/vidf1_33_003_frame_full.mat\")\n",
    "gt_UCSD4 = sio.loadmat(\"UCSD_ground_truth/vidf1_33_004_frame_full.mat\")\n",
    "gt_UCSD5 = sio.loadmat(\"UCSD_ground_truth/vidf1_33_005_frame_full.mat\")\n",
    "gt_UCSD6 = sio.loadmat(\"UCSD_ground_truth/vidf1_33_006_frame_full.mat\")\n",
    "gt_UCSD7 = sio.loadmat(\"UCSD_ground_truth/vidf1_33_007_frame_full.mat\")\n",
    "gt_UCSD8 = sio.loadmat(\"UCSD_ground_truth/vidf1_33_008_frame_full.mat\")\n",
    "gt_UCSD9 = sio.loadmat(\"UCSD_ground_truth/vidf1_33_009_frame_full.mat\")"
   ]
  },
  {
   "cell_type": "markdown",
   "id": "83ffc746",
   "metadata": {},
   "source": [
    "### Labels"
   ]
  },
  {
   "cell_type": "code",
   "execution_count": 4,
   "id": "d46805b9",
   "metadata": {},
   "outputs": [],
   "source": [
    "def read_mat_label(path):\n",
    "    labels=[]\n",
    "    for item in os.listdir(path):\n",
    "        if os.path.isfile(path+item) & (item.endswith(\".mat\")):\n",
    "            dict_label = sio.loadmat(path+item)\n",
    "            labels.append(dict_label['count'])\n",
    "    counts = [np.sum(labels[i], axis=1)[0] for i in range(len(labels))]  # sum of right and left counts\n",
    "    return counts"
   ]
  },
  {
   "cell_type": "code",
   "execution_count": null,
   "id": "c3fb99b6",
   "metadata": {},
   "outputs": [],
   "source": [
    "labels_UCSD = read_mat_label('UCSD_labels/vidf-cvpr/')"
   ]
  },
  {
   "cell_type": "code",
   "execution_count": 9,
   "id": "531b7bfc",
   "metadata": {},
   "outputs": [],
   "source": [
    "# Convert and save the list of images in '.npy' format\n",
    "np.save(\"labels_UCSD.npy\",labels_UCSD)"
   ]
  },
  {
   "cell_type": "code",
   "execution_count": 3,
   "id": "e3859220",
   "metadata": {},
   "outputs": [
    {
     "data": {
      "text/plain": [
       "(10, 1, 200)"
      ]
     },
     "execution_count": 3,
     "metadata": {},
     "output_type": "execute_result"
    }
   ],
   "source": [
    "labels_UCSD = np.load(\"labels_UCSD.npy\")\n",
    "labels_UCSD.shape"
   ]
  },
  {
   "cell_type": "markdown",
   "id": "ef6bc2ab",
   "metadata": {},
   "source": [
    "## Density function - 1/8 resolution"
   ]
  },
  {
   "cell_type": "markdown",
   "id": "cba9428d",
   "metadata": {},
   "source": [
    "We will start from original size images and resize all dividing by 4, so that our density images will be 1/8 of the unpooled images."
   ]
  },
  {
   "cell_type": "code",
   "execution_count": 2,
   "id": "5aa9e19e",
   "metadata": {},
   "outputs": [
    {
     "data": {
      "text/plain": [
       "(10, 200, 158, 238, 3)"
      ]
     },
     "execution_count": 2,
     "metadata": {},
     "output_type": "execute_result"
    }
   ],
   "source": [
    "# load original images\n",
    "images_UCSD = np.load(\"images_UCSD.npy\")\n",
    "images_UCSD.shape"
   ]
  },
  {
   "cell_type": "code",
   "execution_count": 12,
   "id": "ded00747",
   "metadata": {},
   "outputs": [],
   "source": [
    "def load_dataset_resize(path_vidf):\n",
    "    \n",
    "    full_lista = []\n",
    "    \n",
    "    for path in os.listdir(path_vidf):\n",
    "        \n",
    "        lista_images=[]\n",
    "\n",
    "        # Append images to a list\n",
    "        for item in os.listdir(path_vidf+path+'/'):\n",
    "            if os.path.isfile(path_vidf+path+'/'+item):\n",
    "                im = Image.open(path_vidf+path+'/'+item).convert(\"RGB\")\n",
    "                new_image = im.resize((238//4,158//4))\n",
    "                im = np.array(new_image)\n",
    "                lista_images.append(im)\n",
    "        full_lista.append(np.array(lista_images))\n",
    "            \n",
    "    return full_lista"
   ]
  },
  {
   "cell_type": "code",
   "execution_count": 13,
   "id": "5fe4e647",
   "metadata": {},
   "outputs": [],
   "source": [
    "UCSD_dataset_low = load_dataset_resize('UCSDpeds/ucsdpeds/vidf/')"
   ]
  },
  {
   "cell_type": "code",
   "execution_count": 14,
   "id": "f549857c",
   "metadata": {},
   "outputs": [],
   "source": [
    "# Convert and save the list of images in '.npy' format\n",
    "np.save(\"images_UCSD_low.npy\",UCSD_dataset_low)"
   ]
  },
  {
   "cell_type": "code",
   "execution_count": 15,
   "id": "bd244e40",
   "metadata": {},
   "outputs": [
    {
     "data": {
      "text/plain": [
       "(10, 200, 39, 59, 3)"
      ]
     },
     "execution_count": 15,
     "metadata": {},
     "output_type": "execute_result"
    }
   ],
   "source": [
    "images_UCSD_low = np.load(\"images_UCSD_low.npy\")\n",
    "images_UCSD_low.shape"
   ]
  },
  {
   "cell_type": "code",
   "execution_count": 43,
   "id": "3fe72170",
   "metadata": {},
   "outputs": [],
   "source": [
    "def density_UCSD_low_resolution(folder, img_number, gt):\n",
    "\n",
    "    '''\n",
    "    Input:\n",
    "    - folder: folder of the image\n",
    "    - img_number: number of the image\n",
    "    - gt: ground truth of img as dictionary\n",
    "\n",
    "    '''\n",
    "\n",
    "    output = np.zeros(images_UCSD_low[folder][img_number].shape[:-1])\n",
    "    x_full = gt[\"frame\"][0, img_number][0, 0][0][:,0]/4\n",
    "    y_full = gt[\"frame\"][0, img_number][0, 0][0][:,1]/4\n",
    "\n",
    "    '''\n",
    "    # for high number of persons\n",
    "    for x, y in zip(x_full, y_full):\n",
    "        density_img = np.zeros(dataset[folder][img_number].shape[:-1])\n",
    "        try:\n",
    "            density_img[round(y),round(x)] = 1\n",
    "        except:\n",
    "            pass\n",
    "        nearest_distance = np.min(np.linalg.norm(x - y))\n",
    "        sigma = 0.3 * nearest_distance # beta = 0.3 suggested by MCNN paper\n",
    "        kernel_size = 3\n",
    "\n",
    "        density_img = cv2.GaussianBlur(density_img, (kernel_size,kernel_size), sigma)\n",
    "        output += density_img\n",
    "    '''\n",
    "    \n",
    "    for x, y in zip(x_full, y_full):\n",
    "        density_img = np.zeros(images_UCSD_low[folder][img_number].shape[:-1])\n",
    "        try:\n",
    "            density_img[round(y),round(x)] = 1\n",
    "        except:\n",
    "            pass\n",
    "\n",
    "        sigma = 3 \n",
    "        kernel_size = 3\n",
    "\n",
    "        density_img = cv2.GaussianBlur(density_img, (kernel_size,kernel_size), sigma)\n",
    "        output += density_img \n",
    "\n",
    "    return cv2.GaussianBlur(output, (11,11), sigma)"
   ]
  },
  {
   "cell_type": "code",
   "execution_count": 44,
   "id": "cfc45f65",
   "metadata": {},
   "outputs": [
    {
     "name": "stdout",
     "output_type": "stream",
     "text": [
      "Time: 0.006631135940551758\n"
     ]
    },
    {
     "data": {
      "image/png": "[encoded data removed]",
      "text/plain": [
       "<Figure size 1728x648 with 3 Axes>"
      ]
     },
     "metadata": {
      "needs_background": "light"
     },
     "output_type": "display_data"
    }
   ],
   "source": [
    "# density map on first image from folder 1 of UCSD dataset\n",
    "\n",
    "start = time.time()\n",
    "ds = density_UCSD_low_resolution(folder=1, img_number=0, gt=gt_UCSD1)\n",
    "print(f\"Time: {time.time() - start}\")\n",
    "\n",
    "plt.figure(figsize=(24, 9))\n",
    "\n",
    "#image with label\n",
    "plt.subplot(1, 3, 1)\n",
    "plt.imshow(images_UCSD_low[1][0])\n",
    "plt.title(f\"Number of people = {labels_UCSD[1][0,0]}\")\n",
    "\n",
    "# image with ground truth\n",
    "plt.subplot(1, 3, 2)\n",
    "plt.imshow(images_UCSD_low[1][0])\n",
    "for x,y in gt_UCSD1[\"frame\"][0, 0][0, 0][0][:,0:2]/4:\n",
    "    plt.scatter(round(x),round(y), s = 25, marker = \"x\", color = \"r\")\n",
    "plt.title(\"Ground truth\")\n",
    "\n",
    "# image with density map\n",
    "plt.subplot(1, 3, 3)\n",
    "plt.imshow(ds , cmap = cm.jet)\n",
    "_ = plt.title(\"Density\")"
   ]
  },
  {
   "cell_type": "markdown",
   "id": "fa36b96a",
   "metadata": {},
   "source": [
    "### Density images"
   ]
  },
  {
   "cell_type": "code",
   "execution_count": 20,
   "id": "370f59a8",
   "metadata": {},
   "outputs": [],
   "source": [
    "dens_images_UCSD_resize = []\n",
    "list_ground_truth = [gt_UCSD0, gt_UCSD1,gt_UCSD2, gt_UCSD3, gt_UCSD4, \n",
    "                     gt_UCSD5, gt_UCSD6, gt_UCSD7, gt_UCSD8, gt_UCSD9]\n",
    "\n",
    "for folder, gt in enumerate(list_ground_truth):\n",
    "    for img in range(images_UCSD_low.shape[1]):\n",
    "        dens_images_UCSD_resize.append(density_UCSD_low_resolution(folder, img, gt))\n"
   ]
  },
  {
   "cell_type": "code",
   "execution_count": 21,
   "id": "0331cd6a",
   "metadata": {},
   "outputs": [],
   "source": [
    "# Convert and save the list of images in '.npy' format\n",
    "np.save(\"density_UCSD_resize.npy\",dens_images_UCSD_resize)"
   ]
  },
  {
   "cell_type": "code",
   "execution_count": 22,
   "id": "3001e4b0",
   "metadata": {},
   "outputs": [
    {
     "data": {
      "text/plain": [
       "(2000, 39, 59)"
      ]
     },
     "execution_count": 22,
     "metadata": {},
     "output_type": "execute_result"
    }
   ],
   "source": [
    "density_UCSD_resize = np.load(\"density_UCSD_resize.npy\")\n",
    "density_UCSD_resize.shape"
   ]
  },
  {
   "cell_type": "markdown",
   "id": "265569bc",
   "metadata": {},
   "source": [
    "## Train and test"
   ]
  },
  {
   "cell_type": "markdown",
   "id": "21ad29d6",
   "metadata": {},
   "source": [
    "We use frames from 601 to 1400 as training data, and the remaining 1200 frames as testing data. The training data correspond to folders from 3 to 6."
   ]
  },
  {
   "cell_type": "code",
   "execution_count": 18,
   "id": "eca356e8",
   "metadata": {},
   "outputs": [
    {
     "data": {
      "text/plain": [
       "(200, 632, 952, 3)"
      ]
     },
     "execution_count": 18,
     "metadata": {},
     "output_type": "execute_result"
    }
   ],
   "source": [
    "# training images\n",
    "\n",
    "images_UCSD_resize3 = np.load(\"images_UCSD_resize3.npy\")\n",
    "images_UCSD_resize4 = np.load(\"images_UCSD_resize4.npy\")\n",
    "images_UCSD_resize5 = np.load(\"images_UCSD_resize5.npy\")\n",
    "images_UCSD_resize6 = np.load(\"images_UCSD_resize6.npy\")\n",
    "\n",
    "images_UCSD_resize3.shape\n",
    "images_UCSD_resize4.shape\n",
    "images_UCSD_resize5.shape\n",
    "images_UCSD_resize6.shape"
   ]
  },
  {
   "cell_type": "code",
   "execution_count": 23,
   "id": "7d194586",
   "metadata": {},
   "outputs": [
    {
     "data": {
      "text/plain": [
       "(800, 39, 59)"
      ]
     },
     "execution_count": 23,
     "metadata": {},
     "output_type": "execute_result"
    }
   ],
   "source": [
    "# training densities\n",
    "\n",
    "Dens_train = density_UCSD_resize[601:1401]\n",
    "Dens_train.shape"
   ]
  },
  {
   "cell_type": "code",
   "execution_count": 24,
   "id": "5decd982",
   "metadata": {},
   "outputs": [
    {
     "name": "stdout",
     "output_type": "stream",
     "text": [
      "(601, 39, 59)\n",
      "(599, 39, 59)\n"
     ]
    }
   ],
   "source": [
    "# testing densities\n",
    "\n",
    "Dens_test1 = density_UCSD_resize[:601]\n",
    "Dens_test2 = density_UCSD_resize[1401:]\n",
    "print(Dens_test1.shape)\n",
    "print(Dens_test2.shape)"
   ]
  },
  {
   "cell_type": "code",
   "execution_count": 25,
   "id": "b958d921",
   "metadata": {},
   "outputs": [],
   "source": [
    "np.save(\"dens_train_UCSD_resize.npy\",Dens_train)\n",
    "np.save(\"dens_test1_UCSD_resize.npy\",Dens_test1)\n",
    "np.save(\"dens_test2_UCSD_resize.npy\",Dens_test2)"
   ]
  },
  {
   "cell_type": "code",
   "execution_count": 26,
   "id": "d1e9cc75",
   "metadata": {
    "scrolled": true
   },
   "outputs": [
    {
     "data": {
      "text/plain": [
       "(800, 39, 59)"
      ]
     },
     "execution_count": 26,
     "metadata": {},
     "output_type": "execute_result"
    }
   ],
   "source": [
    "density_train_UCSD_resize = np.load(\"dens_train_UCSD_resize.npy\")\n",
    "density_train_UCSD_resize.shape"
   ]
  },
  {
   "cell_type": "code",
   "execution_count": 27,
   "id": "79a79c5a",
   "metadata": {},
   "outputs": [
    {
     "data": {
      "text/plain": [
       "(601, 39, 59)"
      ]
     },
     "execution_count": 27,
     "metadata": {},
     "output_type": "execute_result"
    }
   ],
   "source": [
    "density_test1_UCSD_resize = np.load(\"dens_test1_UCSD_resize.npy\")\n",
    "density_test1_UCSD_resize.shape"
   ]
  },
  {
   "cell_type": "code",
   "execution_count": 28,
   "id": "5b9b9b6a",
   "metadata": {},
   "outputs": [
    {
     "data": {
      "text/plain": [
       "(599, 39, 59)"
      ]
     },
     "execution_count": 28,
     "metadata": {},
     "output_type": "execute_result"
    }
   ],
   "source": [
    "density_test2_UCSD_resize = np.load(\"dens_test2_UCSD_resize.npy\")\n",
    "density_test2_UCSD_resize.shape"
   ]
  },
  {
   "cell_type": "markdown",
   "id": "67247146",
   "metadata": {},
   "source": [
    "## Preprocessing for VGG16"
   ]
  },
  {
   "cell_type": "code",
   "execution_count": 45,
   "id": "ce026176",
   "metadata": {},
   "outputs": [
    {
     "data": {
      "text/plain": [
       "(200, 632, 952, 3)"
      ]
     },
     "execution_count": 45,
     "metadata": {},
     "output_type": "execute_result"
    }
   ],
   "source": [
    "# Preprocess data for vgg16 -train folder 3\n",
    "\n",
    "prepro_list = []\n",
    "\n",
    "for img in images_UCSD_resize3:\n",
    "    prepro_img = preprocess_input(img)\n",
    "    prepro_list.append(prepro_img)\n",
    "\n",
    "prepro_train3 = np.array(prepro_list)\n",
    "prepro_train3.shape"
   ]
  },
  {
   "cell_type": "code",
   "execution_count": 46,
   "id": "dc3f1f85",
   "metadata": {},
   "outputs": [],
   "source": [
    "np.save(\"prepro_train3_UCSD.npy\",prepro_train3)"
   ]
  },
  {
   "cell_type": "code",
   "execution_count": 47,
   "id": "ed455480",
   "metadata": {},
   "outputs": [
    {
     "data": {
      "text/plain": [
       "(200, 632, 952, 3)"
      ]
     },
     "execution_count": 47,
     "metadata": {},
     "output_type": "execute_result"
    }
   ],
   "source": [
    "prepro_train3_UCSD = np.load(\"prepro_train3_UCSD.npy\")\n",
    "prepro_train3_UCSD.shape"
   ]
  },
  {
   "cell_type": "code",
   "execution_count": 48,
   "id": "c2578d9c",
   "metadata": {},
   "outputs": [
    {
     "data": {
      "text/plain": [
       "(200, 632, 952, 3)"
      ]
     },
     "execution_count": 48,
     "metadata": {},
     "output_type": "execute_result"
    }
   ],
   "source": [
    "# Preprocess data for vgg16 -train folder 4\n",
    "\n",
    "prepro_list = []\n",
    "\n",
    "for img in images_UCSD_resize4:\n",
    "    prepro_img = preprocess_input(img)\n",
    "    prepro_list.append(prepro_img)\n",
    "\n",
    "prepro_train4 = np.array(prepro_list)\n",
    "prepro_train4.shape"
   ]
  },
  {
   "cell_type": "code",
   "execution_count": 49,
   "id": "bfb016c5",
   "metadata": {},
   "outputs": [],
   "source": [
    "np.save(\"prepro_train4_UCSD.npy\",prepro_train3)"
   ]
  },
  {
   "cell_type": "code",
   "execution_count": 50,
   "id": "81330ff0",
   "metadata": {},
   "outputs": [
    {
     "data": {
      "text/plain": [
       "(200, 632, 952, 3)"
      ]
     },
     "execution_count": 50,
     "metadata": {},
     "output_type": "execute_result"
    }
   ],
   "source": [
    "prepro_train4_UCSD = np.load(\"prepro_train4_UCSD.npy\")\n",
    "prepro_train4_UCSD.shape"
   ]
  },
  {
   "cell_type": "code",
   "execution_count": 51,
   "id": "a8562dde",
   "metadata": {},
   "outputs": [
    {
     "data": {
      "text/plain": [
       "(200, 632, 952, 3)"
      ]
     },
     "execution_count": 51,
     "metadata": {},
     "output_type": "execute_result"
    }
   ],
   "source": [
    "# Preprocess data for vgg16 -train folder 5\n",
    "\n",
    "prepro_list = []\n",
    "\n",
    "for img in images_UCSD_resize5:\n",
    "    prepro_img = preprocess_input(img)\n",
    "    prepro_list.append(prepro_img)\n",
    "\n",
    "prepro_train5 = np.array(prepro_list)\n",
    "prepro_train5.shape"
   ]
  },
  {
   "cell_type": "code",
   "execution_count": 52,
   "id": "f3f0b967",
   "metadata": {},
   "outputs": [],
   "source": [
    "np.save(\"prepro_train5_UCSD.npy\",prepro_train5)"
   ]
  },
  {
   "cell_type": "code",
   "execution_count": 53,
   "id": "92a3457c",
   "metadata": {},
   "outputs": [
    {
     "data": {
      "text/plain": [
       "(200, 632, 952, 3)"
      ]
     },
     "execution_count": 53,
     "metadata": {},
     "output_type": "execute_result"
    }
   ],
   "source": [
    "prepro_train5_UCSD = np.load(\"prepro_train5_UCSD.npy\")\n",
    "prepro_train5_UCSD.shape"
   ]
  },
  {
   "cell_type": "code",
   "execution_count": 54,
   "id": "7fbd07a5",
   "metadata": {},
   "outputs": [
    {
     "data": {
      "text/plain": [
       "(200, 632, 952, 3)"
      ]
     },
     "execution_count": 54,
     "metadata": {},
     "output_type": "execute_result"
    }
   ],
   "source": [
    "# Preprocess data for vgg16 -train folder 6\n",
    "\n",
    "prepro_list = []\n",
    "\n",
    "for img in images_UCSD_resize6:\n",
    "    prepro_img = preprocess_input(img)\n",
    "    prepro_list.append(prepro_img)\n",
    "\n",
    "prepro_train6 = np.array(prepro_list)\n",
    "prepro_train6.shape"
   ]
  },
  {
   "cell_type": "code",
   "execution_count": 55,
   "id": "010b03b6",
   "metadata": {},
   "outputs": [],
   "source": [
    "np.save(\"prepro_train6_UCSD.npy\",prepro_train6)"
   ]
  },
  {
   "cell_type": "code",
   "execution_count": 56,
   "id": "8ef8ccde",
   "metadata": {},
   "outputs": [
    {
     "data": {
      "text/plain": [
       "(200, 632, 952, 3)"
      ]
     },
     "execution_count": 56,
     "metadata": {},
     "output_type": "execute_result"
    }
   ],
   "source": [
    "prepro_train6_UCSD = np.load(\"prepro_train6_UCSD.npy\")\n",
    "prepro_train6_UCSD.shape"
   ]
  },
  {
   "cell_type": "code",
   "execution_count": null,
   "id": "ea8a3816",
   "metadata": {},
   "outputs": [],
   "source": []
  },
  {
   "cell_type": "code",
   "execution_count": null,
   "id": "ba766b92",
   "metadata": {},
   "outputs": [],
   "source": []
  },
  {
   "cell_type": "code",
   "execution_count": null,
   "id": "d84975cc",
   "metadata": {},
   "outputs": [],
   "source": []
  }
 ],
 "metadata": {
  "kernelspec": {
   "display_name": "Python 3",
   "language": "python",
   "name": "python3"
  },
  "language_info": {
   "codemirror_mode": {
    "name": "ipython",
    "version": 3
   },
   "file_extension": ".py",
   "mimetype": "text/x-python",
   "name": "python",
   "nbconvert_exporter": "python",
   "pygments_lexer": "ipython3",
   "version": "3.8.8"
  }
 },
 "nbformat": 4,
 "nbformat_minor": 5
}
