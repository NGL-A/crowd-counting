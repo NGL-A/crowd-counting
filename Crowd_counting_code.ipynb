{
 "cells": [
  {
   "cell_type": "markdown",
   "id": "70c5e8d0",
   "metadata": {},
   "source": [
    "# Libraries"
   ]
  },
  {
   "cell_type": "code",
   "execution_count": 14,
   "id": "3e84ebec",
   "metadata": {},
   "outputs": [],
   "source": [
    "import numpy as np\n",
    "import pandas as pd\n",
    "import matplotlib.pyplot as plt"
   ]
  },
  {
   "cell_type": "markdown",
   "id": "e06bfcca",
   "metadata": {},
   "source": [
    "# Import Dataset - Crowd counting"
   ]
  },
  {
   "cell_type": "markdown",
   "id": "c19ee435",
   "metadata": {},
   "source": [
    "The dataset is composed by RGB images of frames in a video (as inputs) and the object counting on every frame, this is the number of pedestrians (object) in the image. The images are 480x640 pixels at 3 channels of the same spot recorded by a webcam in a mall but it has different number of person on every frame, is a problem of crowd counting.\n",
    "\n",
    "It is taken from https://www.kaggle.com/datasets/fmena14/crowd-counting?resource=download&select=labels.csv"
   ]
  },
  {
   "cell_type": "code",
   "execution_count": 20,
   "id": "4513b4d3",
   "metadata": {
    "scrolled": true
   },
   "outputs": [],
   "source": [
    "# 2000 RGB images of 480x640 pixels\n",
    "\n",
    "dataset = np.load(\"images.npy\")"
   ]
  },
  {
   "cell_type": "code",
   "execution_count": 21,
   "id": "9830cd9e",
   "metadata": {},
   "outputs": [],
   "source": [
    "# 2000 rows with the id and the count (number of person in that image id)\n",
    "\n",
    "labels = pd.read_csv('labels.csv')"
   ]
  },
  {
   "cell_type": "code",
   "execution_count": 43,
   "id": "e4492d2b",
   "metadata": {
    "scrolled": true
   },
   "outputs": [],
   "source": [
    "count = labels['count']"
   ]
  },
  {
   "cell_type": "markdown",
   "id": "29f0472c",
   "metadata": {},
   "source": [
    "## Distribution of the count"
   ]
  },
  {
   "cell_type": "code",
   "execution_count": 41,
   "id": "dcdebb7b",
   "metadata": {},
   "outputs": [
    {
     "data": {
      "image/png": "[encoded data removed]",
      "text/plain": [
       "<Figure size 432x288 with 1 Axes>"
      ]
     },
     "metadata": {
      "needs_background": "light"
     },
     "output_type": "display_data"
    }
   ],
   "source": [
    "# histogram of the numer of person for each image\n",
    "\n",
    "count.plot.hist(grid=True, bins=20, rwidth=0.9,\n",
    "                   color='#f4a261', alpha=0.75)\n",
    "\n",
    "plt.title('Distribution of the count')\n",
    "plt.xlabel('People in an image')\n",
    "plt.ylabel('')\n",
    "plt.grid(axis='y', alpha=0.35)"
   ]
  },
  {
   "cell_type": "code",
   "execution_count": 42,
   "id": "d7f50612",
   "metadata": {},
   "outputs": [
    {
     "data": {
      "text/plain": [
       "count    2000.000000\n",
       "mean       31.157500\n",
       "std         6.945417\n",
       "min        13.000000\n",
       "25%        26.000000\n",
       "50%        31.000000\n",
       "75%        36.000000\n",
       "max        53.000000\n",
       "Name: count, dtype: float64"
      ]
     },
     "execution_count": 42,
     "metadata": {},
     "output_type": "execute_result"
    }
   ],
   "source": [
    "# let's see the mean, median and quantiles\n",
    "\n",
    "count.describe()"
   ]
  },
  {
   "cell_type": "code",
   "execution_count": null,
   "id": "1961407a",
   "metadata": {},
   "outputs": [],
   "source": []
  }
 ],
 "metadata": {
  "kernelspec": {
   "display_name": "Python 3",
   "language": "python",
   "name": "python3"
  },
  "language_info": {
   "codemirror_mode": {
    "name": "ipython",
    "version": 3
   },
   "file_extension": ".py",
   "mimetype": "text/x-python",
   "name": "python",
   "nbconvert_exporter": "python",
   "pygments_lexer": "ipython3",
   "version": "3.8.8"
  }
 },
 "nbformat": 4,
 "nbformat_minor": 5
}
