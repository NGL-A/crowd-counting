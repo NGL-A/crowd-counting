{
 "cells": [
  {
   "cell_type": "markdown",
   "id": "68abcbd4",
   "metadata": {},
   "source": [
    "# Libraries"
   ]
  },
  {
   "cell_type": "code",
   "execution_count": 14,
   "id": "dded610b",
   "metadata": {},
   "outputs": [],
   "source": [
    "import numpy as np\n",
    "import pandas as pd\n",
    "import matplotlib.pyplot as plt"
   ]
  },
  {
   "cell_type": "markdown",
   "id": "e97482ac",
   "metadata": {},
   "source": [
    "# Import Dataset - Crowd counting"
   ]
  },
  {
   "cell_type": "markdown",
   "id": "a5684c7d",
   "metadata": {},
   "source": [
    "The dataset is composed by RGB images of frames in a video (as inputs) and the object counting on every frame, this is the number of pedestrians (object) in the image. The images are 480x640 pixels at 3 channels of the same spot recorded by a webcam in a mall but it has different number of person on every frame, is a problem of crowd counting.\n",
    "\n",
    "It is taken from https://www.kaggle.com/datasets/fmena14/crowd-counting?resource=download&select=labels.csv"
   ]
  },
  {
   "cell_type": "code",
   "execution_count": 20,
   "id": "6ac605d5",
   "metadata": {
    "scrolled": true
   },
   "outputs": [],
   "source": [
    "dataset = np.load('images.npy')"
   ]
  },
  {
   "cell_type": "code",
   "execution_count": 21,
   "id": "eecdd49e",
   "metadata": {},
   "outputs": [],
   "source": [
    "labels = pd.read_csv('labels.csv')"
   ]
  },
  {
   "cell_type": "code",
   "execution_count": 22,
   "id": "b5bb23ab",
   "metadata": {
    "scrolled": true
   },
   "outputs": [],
   "source": [
    "count = labels['count']"
   ]
  },
  {
   "cell_type": "markdown",
   "id": "33e7b2fc",
   "metadata": {},
   "source": [
    "## Distribution of the count"
   ]
  },
  {
   "cell_type": "code",
   "execution_count": 19,
   "id": "9c75ee4c",
   "metadata": {},
   "outputs": [
    {
     "data": {
      "image/png": "[encoded data removed]",
      "text/plain": [
       "<Figure size 432x288 with 1 Axes>"
      ]
     },
     "metadata": {
      "needs_background": "light"
     },
     "output_type": "display_data"
    }
   ],
   "source": [
    "count.plot.hist(grid=True, bins=20, rwidth=0.9,\n",
    "                   color='#f4a261')\n",
    "plt.title('Distribution of the count')\n",
    "plt.xlabel('People in an image')\n",
    "plt.ylabel('')\n",
    "plt.grid(axis='y', alpha=0.75)"
   ]
  },
  {
   "cell_type": "code",
   "execution_count": null,
   "id": "e7654c67",
   "metadata": {},
   "outputs": [],
   "source": []
  }
 ],
 "metadata": {
  "kernelspec": {
   "display_name": "Python 3",
   "language": "python",
   "name": "python3"
  },
  "language_info": {
   "codemirror_mode": {
    "name": "ipython",
    "version": 3
   },
   "file_extension": ".py",
   "mimetype": "text/x-python",
   "name": "python",
   "nbconvert_exporter": "python",
   "pygments_lexer": "ipython3",
   "version": "3.8.8"
  }
 },
 "nbformat": 4,
 "nbformat_minor": 5
}
